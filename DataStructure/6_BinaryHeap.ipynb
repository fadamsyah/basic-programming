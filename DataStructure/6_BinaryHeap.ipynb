{
 "cells": [
  {
   "cell_type": "code",
   "execution_count": 1,
   "metadata": {},
   "outputs": [],
   "source": [
    "import math"
   ]
  },
  {
   "cell_type": "code",
   "execution_count": 2,
   "metadata": {},
   "outputs": [],
   "source": [
    "# Binary heap implementation\n",
    "# Using complete binary tree\n",
    "\n",
    "class MaxBinaryHeap():\n",
    "    def __init__(self, arr=[]):\n",
    "        self.arr = arr\n",
    "        self.size = len(arr)\n",
    "    \n",
    "    def parent(self, i):\n",
    "        return (i - 1) // 2\n",
    "    \n",
    "    def left_child(self, i):\n",
    "        return 2*i + 1\n",
    "    \n",
    "    def right_child(self, i):\n",
    "        return 2*i + 2\n",
    "    \n",
    "    def build(self):\n",
    "        for i in reversed(range(self.size)):\n",
    "            self.sift_down(i)\n",
    "        return self.arr\n",
    "    \n",
    "    def sift_down(self, idx):\n",
    "        i = idx\n",
    "        def recur(i):\n",
    "            if i >= self.size: return\n",
    "            \n",
    "            il = self.left_child(i)\n",
    "            ir = self.right_child(i)\n",
    "            \n",
    "            if (ir >= self.size) and (il < self.size):\n",
    "                im = il\n",
    "            elif (il >= self.size) and (ir < self.size):\n",
    "                im = ir\n",
    "            elif (il >= self.size) and (ir >= self.size):\n",
    "                return\n",
    "            else:\n",
    "                im = il if self.arr[il] >= self.arr[ir] else ir\n",
    "                        \n",
    "            if self.arr[i] < self.arr[im]:\n",
    "                self.arr[i], self.arr[im] = self.arr[im], self.arr[i]\n",
    "                recur(im)\n",
    "            \n",
    "            else: return\n",
    "        recur(i)\n",
    "        return self.arr # self.__repr__()\n",
    "    \n",
    "    def sift_up(self, idx):\n",
    "        if idx == -1: idx = len(self.arr) - 1\n",
    "        \n",
    "        i = idx\n",
    "        def recur(i):\n",
    "            if i <= 0: return\n",
    "            \n",
    "            ip = self.parent(i)\n",
    "            \n",
    "            if self.arr[ip] >= self.arr[i]: return\n",
    "            else:\n",
    "                self.arr[i], self.arr[ip] = self.arr[ip], self.arr[i]\n",
    "                recur(ip)\n",
    "        recur(i)\n",
    "        return self.arr\n",
    "    \n",
    "    def extract_max(self):\n",
    "        if self.arr is None: return \"Empty Heap\"\n",
    "        if self.size == 1: return self.arr.pop()\n",
    "        \n",
    "        self.size = self.size - 1\n",
    "        self.arr[0], self.arr[-1] = self.arr[-1], self.arr[0]\n",
    "        val = self.arr.pop()\n",
    "        \n",
    "        self.sift_down(0)\n",
    "        \n",
    "        return val\n",
    "    \n",
    "    def insert(self, data):\n",
    "        self.size = self.size + 1\n",
    "        self.arr.append(data)\n",
    "        \n",
    "        self.sift_up(-1)\n",
    "        return self.arr\n",
    "    \n",
    "    def sort(self):\n",
    "        sort = []\n",
    "        temp = self.arr\n",
    "        for i in range(self.size):\n",
    "            sort.append(self.extract_max())\n",
    "        self.arr = temp\n",
    "        return sort"
   ]
  },
  {
   "cell_type": "code",
   "execution_count": 3,
   "metadata": {},
   "outputs": [
    {
     "data": {
      "text/plain": [
       "[49, 30, 29, 18, 18, 29, 12, 2, 7, 14, 5, 8, 11]"
      ]
     },
     "execution_count": 3,
     "metadata": {},
     "output_type": "execute_result"
    }
   ],
   "source": [
    "arr = [8,2,29,30,5,11,12,18,7,14,18,29,49]\n",
    "heap = MaxBinaryHeap(arr)\n",
    "heap.build()"
   ]
  },
  {
   "cell_type": "code",
   "execution_count": 4,
   "metadata": {},
   "outputs": [
    {
     "data": {
      "text/plain": [
       "[49, 30, 29, 18, 18, 29, 12, 2, 7, 14, 5, 8, 11, 55]"
      ]
     },
     "execution_count": 4,
     "metadata": {},
     "output_type": "execute_result"
    }
   ],
   "source": [
    "heap.arr.append(55)\n",
    "heap.arr"
   ]
  },
  {
   "cell_type": "code",
   "execution_count": 5,
   "metadata": {},
   "outputs": [
    {
     "data": {
      "text/plain": [
       "[55, 30, 49, 18, 18, 29, 29, 2, 7, 14, 5, 8, 11, 12]"
      ]
     },
     "execution_count": 5,
     "metadata": {},
     "output_type": "execute_result"
    }
   ],
   "source": [
    "heap.sift_up(-1)"
   ]
  },
  {
   "cell_type": "code",
   "execution_count": 6,
   "metadata": {},
   "outputs": [
    {
     "data": {
      "text/plain": [
       "[60, 30, 55, 18, 18, 29, 49, 2, 7, 14, 5, 8, 11, 12, 29]"
      ]
     },
     "execution_count": 6,
     "metadata": {},
     "output_type": "execute_result"
    }
   ],
   "source": [
    "heap.insert(60)"
   ]
  },
  {
   "cell_type": "code",
   "execution_count": 7,
   "metadata": {},
   "outputs": [
    {
     "name": "stdout",
     "output_type": "stream",
     "text": [
      "[55, 30, 49, 18, 18, 29, 29, 2, 7, 14, 5, 8, 11, 12]\n"
     ]
    }
   ],
   "source": [
    "heap.extract_max()\n",
    "print(heap.arr)"
   ]
  },
  {
   "cell_type": "code",
   "execution_count": 8,
   "metadata": {},
   "outputs": [
    {
     "data": {
      "text/plain": [
       "[55, 49, 30, 29, 29, 18, 18, 14, 12, 11, 8, 5, 2]"
      ]
     },
     "execution_count": 8,
     "metadata": {},
     "output_type": "execute_result"
    }
   ],
   "source": [
    "heap.sort()"
   ]
  },
  {
   "cell_type": "code",
   "execution_count": null,
   "metadata": {},
   "outputs": [],
   "source": []
  }
 ],
 "metadata": {
  "kernelspec": {
   "display_name": "Python 3",
   "language": "python",
   "name": "python3"
  },
  "language_info": {
   "codemirror_mode": {
    "name": "ipython",
    "version": 3
   },
   "file_extension": ".py",
   "mimetype": "text/x-python",
   "name": "python",
   "nbconvert_exporter": "python",
   "pygments_lexer": "ipython3",
   "version": "3.7.9"
  }
 },
 "nbformat": 4,
 "nbformat_minor": 4
}
