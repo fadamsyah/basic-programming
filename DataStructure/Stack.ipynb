{
 "cells": [
  {
   "cell_type": "markdown",
   "metadata": {},
   "source": [
    "# Stack"
   ]
  },
  {
   "cell_type": "code",
   "execution_count": 1,
   "metadata": {},
   "outputs": [],
   "source": [
    "# Node\n",
    "class Node():\n",
    "    def __init__(self, data):\n",
    "        self.data = data\n",
    "        self.next = None\n",
    "        \n",
    "    def __repr__(self):\n",
    "        return self.data\n",
    "    \n",
    "# Stack implementation\n",
    "class Stack():\n",
    "    def __init__(self):\n",
    "        self.head = None\n",
    "        \n",
    "    def __repr__(self):\n",
    "        node = self.head\n",
    "        if node is None: return \"Empty Stack\"\n",
    "        nodes = []\n",
    "        while (node is not None):\n",
    "            nodes.append(node.data)\n",
    "            node = node.next\n",
    "        nodes.append(\"Null\")\n",
    "        return ' -> '.join(list(map(str, nodes)))\n",
    "    \n",
    "    def push(self, data):\n",
    "        if self.head is None: self.head = Node(data)\n",
    "        \n",
    "        else:\n",
    "            node = Node(data)\n",
    "            node.next = self.head\n",
    "            self.head = node\n",
    "            \n",
    "        return self.__repr__()\n",
    "    \n",
    "    def pop(self):\n",
    "        if self.head is None: return \"Empty Stack\"\n",
    "        \n",
    "        val = self.head.data\n",
    "        self.head = self.head.next\n",
    "        \n",
    "        return val\n",
    "    \n",
    "    def top(self):\n",
    "        if self.head is None: return \"Empty Stack\"\n",
    "        \n",
    "        return self.head.data\n",
    "    \n",
    "    def empty(self):\n",
    "        if self.head is None: return True\n",
    "        return False"
   ]
  },
  {
   "cell_type": "code",
   "execution_count": 2,
   "metadata": {},
   "outputs": [],
   "source": [
    "stack = Stack()"
   ]
  },
  {
   "cell_type": "code",
   "execution_count": 3,
   "metadata": {},
   "outputs": [
    {
     "data": {
      "text/plain": [
       "4 -> 3 -> 2 -> 1 -> 0 -> Null"
      ]
     },
     "execution_count": 3,
     "metadata": {},
     "output_type": "execute_result"
    }
   ],
   "source": [
    "for i in range(5):\n",
    "    stack.push(i)\n",
    "stack"
   ]
  },
  {
   "cell_type": "code",
   "execution_count": 4,
   "metadata": {},
   "outputs": [
    {
     "name": "stdout",
     "output_type": "stream",
     "text": [
      "4\n",
      "3\n"
     ]
    },
    {
     "data": {
      "text/plain": [
       "2 -> 1 -> 0 -> Null"
      ]
     },
     "execution_count": 4,
     "metadata": {},
     "output_type": "execute_result"
    }
   ],
   "source": [
    "print(stack.pop())\n",
    "print(stack.pop())\n",
    "stack"
   ]
  },
  {
   "cell_type": "code",
   "execution_count": 5,
   "metadata": {},
   "outputs": [
    {
     "name": "stdout",
     "output_type": "stream",
     "text": [
      "2\n"
     ]
    },
    {
     "data": {
      "text/plain": [
       "2 -> 1 -> 0 -> Null"
      ]
     },
     "execution_count": 5,
     "metadata": {},
     "output_type": "execute_result"
    }
   ],
   "source": [
    "print(stack.top())\n",
    "stack"
   ]
  },
  {
   "cell_type": "code",
   "execution_count": 6,
   "metadata": {},
   "outputs": [
    {
     "name": "stdout",
     "output_type": "stream",
     "text": [
      "False\n",
      "2\n",
      "1\n",
      "0\n",
      "Empty Stack\n"
     ]
    },
    {
     "data": {
      "text/plain": [
       "Empty Stack"
      ]
     },
     "execution_count": 6,
     "metadata": {},
     "output_type": "execute_result"
    }
   ],
   "source": [
    "print(stack.empty())\n",
    "print(stack.pop())\n",
    "print(stack.pop())\n",
    "print(stack.pop())\n",
    "print(stack.pop())\n",
    "stack"
   ]
  },
  {
   "cell_type": "code",
   "execution_count": 7,
   "metadata": {},
   "outputs": [
    {
     "name": "stdout",
     "output_type": "stream",
     "text": [
      "True\n"
     ]
    }
   ],
   "source": [
    "print(stack.empty())"
   ]
  },
  {
   "cell_type": "markdown",
   "metadata": {},
   "source": [
    "# Case"
   ]
  },
  {
   "cell_type": "code",
   "execution_count": 8,
   "metadata": {},
   "outputs": [],
   "source": [
    "symbol = [char for char in '()[]{}']\n",
    "start = [symbol[i] for i in range(len(symbol)) if (i+1)%2!=0]\n",
    "stop = [symbol[i] for i in range(len(symbol)) if (i+1)%2==0]"
   ]
  },
  {
   "cell_type": "code",
   "execution_count": 9,
   "metadata": {},
   "outputs": [],
   "source": [
    "string = \"(first paranthesis [{second paranthesis}()])\""
   ]
  },
  {
   "cell_type": "code",
   "execution_count": 10,
   "metadata": {},
   "outputs": [],
   "source": [
    "def check_paranthesis(string):\n",
    "    correct = True\n",
    "    \n",
    "    stack = Stack()\n",
    "    for char in string:\n",
    "        if char in start:\n",
    "            stack.push(char)\n",
    "        elif char in stop:\n",
    "            val = stack.pop()\n",
    "            for i in range(len(start)):\n",
    "                if val == start[i]:\n",
    "                    break\n",
    "            if char != stop[i]:\n",
    "                correct = False\n",
    "                break\n",
    "    if not stack.empty(): correct = False\n",
    "    \n",
    "    return correct"
   ]
  },
  {
   "cell_type": "code",
   "execution_count": 11,
   "metadata": {},
   "outputs": [
    {
     "data": {
      "text/plain": [
       "True"
      ]
     },
     "execution_count": 11,
     "metadata": {},
     "output_type": "execute_result"
    }
   ],
   "source": [
    "check_paranthesis(string)"
   ]
  },
  {
   "cell_type": "code",
   "execution_count": null,
   "metadata": {},
   "outputs": [],
   "source": []
  }
 ],
 "metadata": {
  "kernelspec": {
   "display_name": "Python 3",
   "language": "python",
   "name": "python3"
  },
  "language_info": {
   "codemirror_mode": {
    "name": "ipython",
    "version": 3
   },
   "file_extension": ".py",
   "mimetype": "text/x-python",
   "name": "python",
   "nbconvert_exporter": "python",
   "pygments_lexer": "ipython3",
   "version": "3.7.9"
  }
 },
 "nbformat": 4,
 "nbformat_minor": 4
}
