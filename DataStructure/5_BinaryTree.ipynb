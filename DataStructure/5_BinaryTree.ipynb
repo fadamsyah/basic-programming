{
 "cells": [
  {
   "cell_type": "markdown",
   "metadata": {},
   "source": [
    "# Binary Tree"
   ]
  },
  {
   "cell_type": "code",
   "execution_count": null,
   "metadata": {},
   "outputs": [],
   "source": [
    "# Binary Tree\n",
    "class Tree():\n",
    "    def __init__(self, key, parent=None, left=None, right=None):\n",
    "        self.key = key\n",
    "        self.parent = parent\n",
    "        self.left = left\n",
    "        self.right = right\n",
    "    \n",
    "    def __repr__(self):\n",
    "        return self.key\n",
    "    \n",
    "# Get the height of a tree\n",
    "def get_height(tree):\n",
    "    if tree is None:\n",
    "        return 0\n",
    "    return 1 + max(get_height(tree.left), get_height(tree.right))\n",
    "\n",
    "# Get the size\n",
    "def get_size(tree):\n",
    "    if tree is None:\n",
    "        return 0\n",
    "    return 1 + get_size(tree.left) + get_size(tree.right)\n",
    "\n",
    "# Assign the corresponding parent to its children\n",
    "def assign_parent(parent):\n",
    "    def assign(tree):\n",
    "        if tree is not None: tree.parent = parent\n",
    "    assign(parent.left)\n",
    "    assign(parent.right)"
   ]
  },
  {
   "cell_type": "code",
   "execution_count": 2,
   "metadata": {},
   "outputs": [],
   "source": [
    "Alex = Tree(\"Alex\")\n",
    "Frank = Tree(\"Frank\")\n",
    "Cathy = Tree(\"Cathy\", left=Alex, right=Frank)\n",
    "assign_parent(Cathy)\n",
    "\n",
    "Tony = Tree(\"Tony\")\n",
    "Wendy = Tree(\"Wendy\")\n",
    "Violet = Tree(\"Violet\", left=Tony, right=Wendy)\n",
    "assign_parent(Violet)\n",
    "\n",
    "Nancy = Tree(\"Nancy\")\n",
    "Sam = Tree(\"Sam\", left=Nancy, right=Violet)\n",
    "assign_parent(Sam)\n",
    "\n",
    "Les = Tree(\"Les\", left=Cathy, right=Sam)\n",
    "assign_parent(Les)"
   ]
  },
  {
   "cell_type": "code",
   "execution_count": 3,
   "metadata": {},
   "outputs": [
    {
     "name": "stdout",
     "output_type": "stream",
     "text": [
      "3\n",
      "4\n"
     ]
    }
   ],
   "source": [
    "print(get_height(Sam))\n",
    "print(get_height(Les))"
   ]
  },
  {
   "cell_type": "code",
   "execution_count": 4,
   "metadata": {},
   "outputs": [
    {
     "name": "stdout",
     "output_type": "stream",
     "text": [
      "9\n"
     ]
    }
   ],
   "source": [
    "print(get_size(Les))"
   ]
  },
  {
   "cell_type": "markdown",
   "metadata": {},
   "source": [
    "# Walking the Tree"
   ]
  },
  {
   "cell_type": "markdown",
   "metadata": {},
   "source": [
    "## Depth-first"
   ]
  },
  {
   "cell_type": "code",
   "execution_count": 5,
   "metadata": {},
   "outputs": [],
   "source": [
    "# Depth-first\n",
    "# PostOrder Traversal\n",
    "def dfs(tree):\n",
    "    if tree is None:\n",
    "        return\n",
    "    dfs(tree.left)\n",
    "    dfs(tree.right)\n",
    "    print(tree.key)\n",
    "    "
   ]
  },
  {
   "cell_type": "code",
   "execution_count": 6,
   "metadata": {},
   "outputs": [
    {
     "name": "stdout",
     "output_type": "stream",
     "text": [
      "Alex\n",
      "Frank\n",
      "Cathy\n",
      "Nancy\n",
      "Tony\n",
      "Wendy\n",
      "Violet\n",
      "Sam\n",
      "Les\n"
     ]
    }
   ],
   "source": [
    "dfs(Les)"
   ]
  },
  {
   "cell_type": "markdown",
   "metadata": {},
   "source": [
    "## Breadth-first"
   ]
  },
  {
   "cell_type": "markdown",
   "metadata": {
    "collapsed": "true"
   },
   "source": [
    "### Queue"
   ]
  },
  {
   "cell_type": "code",
   "execution_count": 7,
   "metadata": {},
   "outputs": [],
   "source": [
    "# Node\n",
    "class Node():\n",
    "    def __init__(self, data):\n",
    "        self.data = data\n",
    "        self.next = None\n",
    "        \n",
    "    def __repr__(self):\n",
    "        return self.data\n",
    "    \n",
    "# Queue Implementation\n",
    "class Queue():\n",
    "    def __init__(self):\n",
    "        self.head = None\n",
    "        self.tail = None\n",
    "    \n",
    "    def __repr__(self):\n",
    "        node = self.head\n",
    "        if node is None: return \"Empty Queue\"\n",
    "        nodes = []\n",
    "        while (node is not None):\n",
    "            nodes.append(node.data)\n",
    "            node = node.next\n",
    "        nodes.append(\"Null\")\n",
    "        return ' -> '.join(list(map(str, nodes)))\n",
    "    \n",
    "    def push(self, data):\n",
    "        if self.head is None:\n",
    "            self.head = Node(data)\n",
    "            self.tail = self.head\n",
    "            \n",
    "        else:\n",
    "            self.tail.next = Node(data)\n",
    "            self.tail = self.tail.next\n",
    "            \n",
    "        return self.__repr__()\n",
    "    \n",
    "    def pop(self):\n",
    "        if self.head is None: return \"Empty Queue\"\n",
    "            \n",
    "        elif self.head.next is None:\n",
    "            val = self.head.data\n",
    "            self.head = None\n",
    "            self.tail = None\n",
    "            return val\n",
    "        \n",
    "        else:\n",
    "            val = self.head.data\n",
    "            self.head = self.head.next\n",
    "            return val\n",
    "        \n",
    "    def top(self):\n",
    "        if self.head is None: return \"Empty Queue\"\n",
    "        \n",
    "        return self.head.data\n",
    "        \n",
    "    def empty(self):\n",
    "        if self.head is None: return True\n",
    "        return False"
   ]
  },
  {
   "cell_type": "markdown",
   "metadata": {},
   "source": [
    "### Breadth-first"
   ]
  },
  {
   "cell_type": "code",
   "execution_count": 8,
   "metadata": {},
   "outputs": [],
   "source": [
    "def bfs(tree):\n",
    "    if tree is None: return \"Empty\"\n",
    "    \n",
    "    names =  []\n",
    "    queue = Queue()\n",
    "    queue.push(tree)\n",
    "    \n",
    "    while (not queue.empty()):\n",
    "        node = queue.pop()\n",
    "        names.append(node.key)\n",
    "        if node.left is not None:\n",
    "            queue.push(node.left)\n",
    "        if node.right is not None:\n",
    "            queue.push(node.right)\n",
    "    return names  \n",
    "    "
   ]
  },
  {
   "cell_type": "code",
   "execution_count": 9,
   "metadata": {},
   "outputs": [
    {
     "data": {
      "text/plain": [
       "['Les', 'Cathy', 'Sam', 'Alex', 'Frank', 'Nancy', 'Violet', 'Tony', 'Wendy']"
      ]
     },
     "execution_count": 9,
     "metadata": {},
     "output_type": "execute_result"
    }
   ],
   "source": [
    "bfs(Les)"
   ]
  },
  {
   "cell_type": "code",
   "execution_count": null,
   "metadata": {},
   "outputs": [],
   "source": []
  }
 ],
 "metadata": {
  "kernelspec": {
   "display_name": "Python 3",
   "language": "python",
   "name": "python3"
  },
  "language_info": {
   "codemirror_mode": {
    "name": "ipython",
    "version": 3
   },
   "file_extension": ".py",
   "mimetype": "text/x-python",
   "name": "python",
   "nbconvert_exporter": "python",
   "pygments_lexer": "ipython3",
   "version": "3.7.9"
  }
 },
 "nbformat": 4,
 "nbformat_minor": 4
}
