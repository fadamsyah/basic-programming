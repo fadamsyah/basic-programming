{
 "cells": [
  {
   "cell_type": "markdown",
   "metadata": {},
   "source": [
    "# Binary Search Tree"
   ]
  },
  {
   "cell_type": "code",
   "execution_count": 2,
   "metadata": {},
   "outputs": [],
   "source": [
    "# Binary Tree\n",
    "class Tree():\n",
    "    def __init__(self, key, parent=None, left=None, right=None):\n",
    "        self.key = key\n",
    "        self.parent = parent\n",
    "        self.left = left\n",
    "        self.right = right\n",
    "    \n",
    "    def __repr__(self):\n",
    "        return str(self.key)"
   ]
  },
  {
   "cell_type": "code",
   "execution_count": 128,
   "metadata": {},
   "outputs": [],
   "source": [
    "class BinarySearchTree():\n",
    "    def __init__(self, key=None):\n",
    "        self.top = None if (key is None) else Tree(key)\n",
    "        \n",
    "    # Get the height of the tree\n",
    "    def get_height(self, tree):\n",
    "        if tree is None: return 0\n",
    "        return 1 + max(get_height(tree.left), get_height(tree.right))\n",
    "    \n",
    "    # Get the size of the tree\n",
    "    def get_size(self, tree):\n",
    "        if tree is None: return 0\n",
    "        return 1 + get_size(tree.left) + get_size(tree.right)\n",
    "    \n",
    "    # Assign the parent of trees according to the parrent tree\n",
    "    def assign_parent(self, parent):\n",
    "        def assign(tree):\n",
    "            if tree is not None: tree.parent = parent\n",
    "        assign(parent.left)\n",
    "        assign(parent.right)\n",
    "        \n",
    "    # Find a node containing the given key\n",
    "    # If we don't find a node containing the key\n",
    "    # we can simply return the best position to insert the key\n",
    "    def find(self, key):\n",
    "        def recur(tree):\n",
    "            if tree.key == key: return tree\n",
    "            elif key > tree.key:\n",
    "                if tree.right: return recur(tree.right)\n",
    "                return tree\n",
    "            elif key < tree.key:\n",
    "                if tree.left: return recur(tree.left)\n",
    "                return tree\n",
    "        return recur(self.top)\n",
    "        \n",
    "    # Insert another node\n",
    "    def insert(self, key):\n",
    "        # Find the candidate place\n",
    "        tree = self.find(key)\n",
    "        if key == tree.key:\n",
    "            print(f'Key {key} already exists')\n",
    "            return \n",
    "        if key > tree.key:\n",
    "            tree.right = Tree(key)\n",
    "            tree.right.parent = tree\n",
    "        else:\n",
    "            tree.left = Tree(key)\n",
    "            tree.left.parent = tree\n",
    "        \n",
    "    # Find the next node which has greater key\n",
    "    def find_next(self, tree, report=True):\n",
    "        val = tree.key\n",
    "        def left_descendant(tree):\n",
    "            if tree.left: return left_descendant(tree.left)\n",
    "            else: return tree\n",
    "        def right_ancestor(tree):\n",
    "            if tree.key >= val: return tree\n",
    "            elif tree.parent: return right_ancestor(tree.parent)\n",
    "            else: return tree\n",
    "        if tree is None:\n",
    "            return \"Empty BST\"\n",
    "        elif tree.right:\n",
    "            tk = left_descendant(tree.right)\n",
    "            if tk.key > val: return tk\n",
    "            if report: print(f'Cannot find key greater than {val}')\n",
    "            return None\n",
    "        elif tree.parent:\n",
    "            tk = right_ancestor(tree.parent)\n",
    "            if tk.key > val: return tk\n",
    "            if report: print(f'Cannot find key greater than {val}')\n",
    "            return None\n",
    "        \n",
    "    def range_search(self, k1, k2):\n",
    "        if k2 <= k1:\n",
    "            print(f'k1 ({k1}) should be less than k2 ({k2})')\n",
    "            return\n",
    "        \n",
    "        arr = []\n",
    "        \n",
    "        tree = self.find(k1)\n",
    "        if tree.key > k2: return arr\n",
    "        \n",
    "        while True:\n",
    "            if (k1 <= tree.key) and (tree.key <= k2):\n",
    "                arr.append(tree.key)\n",
    "            tree = self.find_next(tree, False)\n",
    "            if tree is None: break\n",
    "            elif tree.key > k2: break\n",
    "        return arr"
   ]
  },
  {
   "cell_type": "code",
   "execution_count": 129,
   "metadata": {},
   "outputs": [
    {
     "name": "stdout",
     "output_type": "stream",
     "text": [
      "Key 3 already exists\n",
      "Key 5 already exists\n"
     ]
    }
   ],
   "source": [
    "bst = BinarySearchTree(3)\n",
    "bst.insert(5)\n",
    "bst.insert(8)\n",
    "bst.insert(6)\n",
    "bst.insert(4)\n",
    "bst.insert(9)\n",
    "bst.insert(1)\n",
    "bst.insert(2)\n",
    "bst.insert(-1)\n",
    "bst.insert(0)\n",
    "bst.insert(3)\n",
    "bst.insert(10)\n",
    "bst.insert(5)"
   ]
  },
  {
   "cell_type": "code",
   "execution_count": 130,
   "metadata": {},
   "outputs": [
    {
     "name": "stdout",
     "output_type": "stream",
     "text": [
      "0\n",
      "Cannot find key greater than 10\n",
      "None\n",
      "10\n"
     ]
    }
   ],
   "source": [
    "print(bst.find_next(bst.find(-1)))\n",
    "print(bst.find_next(bst.find(10)))\n",
    "print(bst.find_next(bst.find(9)))"
   ]
  },
  {
   "cell_type": "code",
   "execution_count": 133,
   "metadata": {},
   "outputs": [
    {
     "data": {
      "text/plain": [
       "[1, 2, 3, 4, 5, 6, 8]"
      ]
     },
     "execution_count": 133,
     "metadata": {},
     "output_type": "execute_result"
    }
   ],
   "source": [
    "bst.range_search(1, 8)"
   ]
  },
  {
   "cell_type": "code",
   "execution_count": null,
   "metadata": {},
   "outputs": [],
   "source": []
  }
 ],
 "metadata": {
  "kernelspec": {
   "display_name": "Python 3",
   "language": "python",
   "name": "python3"
  },
  "language_info": {
   "codemirror_mode": {
    "name": "ipython",
    "version": 3
   },
   "file_extension": ".py",
   "mimetype": "text/x-python",
   "name": "python",
   "nbconvert_exporter": "python",
   "pygments_lexer": "ipython3",
   "version": "3.7.9"
  }
 },
 "nbformat": 4,
 "nbformat_minor": 4
}
