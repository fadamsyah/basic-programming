{
 "cells": [
  {
   "cell_type": "code",
   "execution_count": 1,
   "metadata": {},
   "outputs": [],
   "source": [
    "# Node\n",
    "class Node():\n",
    "    def __init__(self, data):\n",
    "        self.data = data\n",
    "        self.next = None\n",
    "        self.back = None\n",
    "        \n",
    "    def __repr__(self):\n",
    "        return self.data\n",
    "    \n",
    "# Linked List\n",
    "class DoublyLinkedList():\n",
    "    def __init__(self, nodes=None):\n",
    "        self.head = None\n",
    "        self.tail = None\n",
    "        if nodes is not None:\n",
    "            node = Node(nodes.pop(0)) # Pop the first value (get + delete)\n",
    "            self.head = node\n",
    "            self.tail = self.head\n",
    "            for val in nodes:\n",
    "                node.next = Node(val)\n",
    "                node.next.back = node\n",
    "                node = node.next\n",
    "                self.tail = node\n",
    "                \n",
    "    def __repr__(self):\n",
    "        node = self.head\n",
    "        if node is None: return \"Empty\"\n",
    "        nodes = []\n",
    "        while (node is not None):\n",
    "            nodes.append(node.data)\n",
    "            node = node.next\n",
    "        nodes.append(\"None\")\n",
    "        return ' -> '.join(nodes)\n",
    "    \n",
    "    # O(1)\n",
    "    def pop_back(self):        \n",
    "        # If empty\n",
    "        if self.head is None: return \"Empty\"\n",
    "        \n",
    "        # If we only have 1 element\n",
    "        elif self.head.next is None:\n",
    "            val = self.head.data\n",
    "            self.head = None\n",
    "            self.tail = None\n",
    "            return val\n",
    "        \n",
    "        # Else\n",
    "        else:\n",
    "            val = self.tail.data\n",
    "            self.tail = self.tail.back\n",
    "            self.tail.next = None\n",
    "            return val\n",
    "        \n",
    "    # O(1)\n",
    "    def pop_front(self):\n",
    "        # If empty\n",
    "        if self.head is None: return \"Empty\"\n",
    "        \n",
    "        # If we only have head\n",
    "        if self.head.next is None:\n",
    "            val = self.head.data\n",
    "            self.head = None\n",
    "            self.tail = None\n",
    "            return val\n",
    "        \n",
    "        # Else\n",
    "        val = self.head.data\n",
    "        self.head = self.head.next\n",
    "        return val\n",
    "    \n",
    "    # O(1)\n",
    "    def insert_front(self, data):\n",
    "        # If empty\n",
    "        if self.head is None:\n",
    "            self.head = Node(data)\n",
    "            self.tail = self.head\n",
    "        \n",
    "        # Else\n",
    "        else:\n",
    "            self.head.back = Node(data)\n",
    "            self.head.back.next = self.head\n",
    "            self.head = self.head.back\n",
    "        return self.__repr__()\n",
    "    \n",
    "    # O(1)\n",
    "    def insert_back(self, data):        \n",
    "        # If empty\n",
    "        if self.head is None:\n",
    "            self.head = Node(data)\n",
    "            self.tail = self.head\n",
    "        \n",
    "        # Else\n",
    "        else:\n",
    "            self.tail.next = Node(data)\n",
    "            self.tail.next.back = self.tail\n",
    "            self.tail = self.tail.next\n",
    "            \n",
    "        return self.__repr__()"
   ]
  },
  {
   "cell_type": "code",
   "execution_count": 2,
   "metadata": {},
   "outputs": [
    {
     "data": {
      "text/plain": [
       "1 -> 2 -> 3 -> 4 -> None"
      ]
     },
     "execution_count": 2,
     "metadata": {},
     "output_type": "execute_result"
    }
   ],
   "source": [
    "# first element (head)\n",
    "a = Node('1')\n",
    "\n",
    "# second element\n",
    "b = Node('2')\n",
    "a.next = b\n",
    "b.back = a\n",
    "\n",
    "# third element\n",
    "c = Node('3')\n",
    "b.next = c\n",
    "c.back = b\n",
    "\n",
    "# fourth element\n",
    "d = Node('4')\n",
    "c.next = d\n",
    "d.back = c\n",
    "\n",
    "# Make the linked list\n",
    "ll = DoublyLinkedList()\n",
    "ll.head = a\n",
    "ll.tail = d\n",
    "\n",
    "ll"
   ]
  },
  {
   "cell_type": "code",
   "execution_count": 3,
   "metadata": {},
   "outputs": [
    {
     "name": "stdout",
     "output_type": "stream",
     "text": [
      "1\n",
      "2 -> 3 -> 4 -> None\n",
      "4\n",
      "2 -> 3 -> None\n",
      "2\n",
      "3 -> None\n",
      "3\n",
      "Empty\n"
     ]
    }
   ],
   "source": [
    "print(ll.pop_front())\n",
    "print(ll)\n",
    "\n",
    "print(ll.pop_back())\n",
    "print(ll)\n",
    "\n",
    "print(ll.pop_front())\n",
    "print(ll)\n",
    "\n",
    "print(ll.pop_back())\n",
    "print(ll)"
   ]
  },
  {
   "cell_type": "code",
   "execution_count": 4,
   "metadata": {},
   "outputs": [
    {
     "name": "stdout",
     "output_type": "stream",
     "text": [
      "Linked List:  1 -> 2 -> 3 -> 4 -> None\n",
      "1\n",
      "2 -> 3 -> 4 -> None\n",
      "4\n",
      "2 -> 3 -> None\n",
      "2\n",
      "3 -> None\n",
      "3\n",
      "Empty\n"
     ]
    }
   ],
   "source": [
    "ll = DoublyLinkedList(['1', '2', '3', '4'])\n",
    "print(\"Linked List: \", ll)\n",
    "\n",
    "print(ll.pop_front())\n",
    "print(ll)\n",
    "\n",
    "print(ll.pop_back())\n",
    "print(ll)\n",
    "\n",
    "print(ll.pop_front())\n",
    "print(ll)\n",
    "\n",
    "print(ll.pop_back())\n",
    "print(ll)"
   ]
  },
  {
   "cell_type": "code",
   "execution_count": 5,
   "metadata": {},
   "outputs": [
    {
     "name": "stdout",
     "output_type": "stream",
     "text": [
      "Linked List:  1 -> 2 -> 3 -> 4 -> None\n"
     ]
    }
   ],
   "source": [
    "ll = DoublyLinkedList(['1', '2', '3', '4'])\n",
    "print(\"Linked List: \", ll)"
   ]
  },
  {
   "cell_type": "code",
   "execution_count": 6,
   "metadata": {},
   "outputs": [
    {
     "data": {
      "text/plain": [
       "'0 -> 1 -> 2 -> 3 -> 4 -> None'"
      ]
     },
     "execution_count": 6,
     "metadata": {},
     "output_type": "execute_result"
    }
   ],
   "source": [
    "ll.insert_front('0')"
   ]
  },
  {
   "cell_type": "code",
   "execution_count": 7,
   "metadata": {},
   "outputs": [
    {
     "data": {
      "text/plain": [
       "'0 -> 1 -> 2 -> 3 -> 4 -> 2 -> None'"
      ]
     },
     "execution_count": 7,
     "metadata": {},
     "output_type": "execute_result"
    }
   ],
   "source": [
    "ll.insert_back('2')"
   ]
  },
  {
   "cell_type": "code",
   "execution_count": 8,
   "metadata": {},
   "outputs": [
    {
     "data": {
      "text/plain": [
       "Empty"
      ]
     },
     "execution_count": 8,
     "metadata": {},
     "output_type": "execute_result"
    }
   ],
   "source": [
    "ll = DoublyLinkedList()\n",
    "ll"
   ]
  },
  {
   "cell_type": "code",
   "execution_count": 9,
   "metadata": {},
   "outputs": [
    {
     "data": {
      "text/plain": [
       "'2 -> None'"
      ]
     },
     "execution_count": 9,
     "metadata": {},
     "output_type": "execute_result"
    }
   ],
   "source": [
    "ll.insert_back('2')"
   ]
  },
  {
   "cell_type": "code",
   "execution_count": 10,
   "metadata": {},
   "outputs": [
    {
     "data": {
      "text/plain": [
       "'2'"
      ]
     },
     "execution_count": 10,
     "metadata": {},
     "output_type": "execute_result"
    }
   ],
   "source": [
    "ll.pop_back()"
   ]
  },
  {
   "cell_type": "code",
   "execution_count": 11,
   "metadata": {},
   "outputs": [
    {
     "data": {
      "text/plain": [
       "'0 -> None'"
      ]
     },
     "execution_count": 11,
     "metadata": {},
     "output_type": "execute_result"
    }
   ],
   "source": [
    "ll.insert_front('0')"
   ]
  },
  {
   "cell_type": "code",
   "execution_count": 12,
   "metadata": {},
   "outputs": [
    {
     "data": {
      "text/plain": [
       "'0'"
      ]
     },
     "execution_count": 12,
     "metadata": {},
     "output_type": "execute_result"
    }
   ],
   "source": [
    "ll.pop_front()"
   ]
  },
  {
   "cell_type": "code",
   "execution_count": 13,
   "metadata": {},
   "outputs": [
    {
     "data": {
      "text/plain": [
       "'Empty'"
      ]
     },
     "execution_count": 13,
     "metadata": {},
     "output_type": "execute_result"
    }
   ],
   "source": [
    "ll.pop_back()"
   ]
  },
  {
   "cell_type": "code",
   "execution_count": null,
   "metadata": {},
   "outputs": [],
   "source": []
  }
 ],
 "metadata": {
  "kernelspec": {
   "display_name": "Python 3",
   "language": "python",
   "name": "python3"
  },
  "language_info": {
   "codemirror_mode": {
    "name": "ipython",
    "version": 3
   },
   "file_extension": ".py",
   "mimetype": "text/x-python",
   "name": "python",
   "nbconvert_exporter": "python",
   "pygments_lexer": "ipython3",
   "version": "3.7.9"
  }
 },
 "nbformat": 4,
 "nbformat_minor": 4
}
