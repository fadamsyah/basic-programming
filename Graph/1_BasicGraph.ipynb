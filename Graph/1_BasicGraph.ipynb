{
 "cells": [
  {
   "cell_type": "markdown",
   "metadata": {},
   "source": [
    "<a href=https://www.python.org/doc/essays/graphs/>Reference</a>"
   ]
  },
  {
   "cell_type": "code",
   "execution_count": 1,
   "metadata": {},
   "outputs": [],
   "source": [
    "from collections import deque"
   ]
  },
  {
   "cell_type": "code",
   "execution_count": 2,
   "metadata": {},
   "outputs": [],
   "source": [
    "# Graph structure adjancey list\n",
    "class Graph():\n",
    "    def __init__(self, graph):\n",
    "        self.graph = graph\n",
    "        \n",
    "    # Shortest Path with BFS\n",
    "    def shortest_path(self, start, end):\n",
    "        path = {start: {'dist': 0, 'path': [start]}}\n",
    "        if start == end: return path[start]\n",
    "        elif start not in self.graph:\n",
    "            return f\"The graph does not contain {start}\"\n",
    "        elif end not in self.graph:\n",
    "            return f\"The graph does not contain {end}\"\n",
    "        \n",
    "        level = 0\n",
    "        queue = deque()\n",
    "        queue.append(start)\n",
    "        while len(queue) != 0:\n",
    "            node = queue.popleft()\n",
    "            level = level + 1\n",
    "            for v in self.graph[node]:\n",
    "                if v is None: pass\n",
    "                elif v not in path:\n",
    "                    path[v] = {'dist': level, 'path': path[node]['path'] + [v]}\n",
    "                    queue.append(v)\n",
    "                if end in path:\n",
    "                    return path[end]\n",
    "        return f'Cannot find a path from {start} to {end}'\n",
    "    \n",
    "    # UNFINISHED\n",
    "    def topological_sort(self, start):\n",
    "        arr = []\n",
    "        def recur(node):\n",
    "            if node is None: return\n",
    "            if node in arr: return\n",
    "            arr.append(node)\n",
    "            for x in self.graph[node]:\n",
    "                recur(x)\n",
    "            \n",
    "        recur(start)\n",
    "        return arr"
   ]
  },
  {
   "cell_type": "code",
   "execution_count": 3,
   "metadata": {},
   "outputs": [],
   "source": [
    "graph1 = {'A': ['B', 'C'],\n",
    "          'B': ['C', 'D'],\n",
    "          'C': ['D'],\n",
    "          'D': ['C'],\n",
    "          'E': ['F'],\n",
    "          'F': ['C']}\n",
    "\n",
    "graph2 = {'A': ['B'],\n",
    "          'B': [None],\n",
    "          'C': ['B'],\n",
    "          'D': ['E'],\n",
    "          'E': ['S'],\n",
    "          'S': ['A', 'C', 'D']}\n",
    "\n",
    "graph3 = {0: [1, 2],\n",
    "          1: [2, 5],\n",
    "          2: [3],\n",
    "          3: [None],\n",
    "          4: [None],\n",
    "          5: [3,4],\n",
    "          6: [1,5]}"
   ]
  },
  {
   "cell_type": "code",
   "execution_count": 4,
   "metadata": {},
   "outputs": [
    {
     "data": {
      "text/plain": [
       "{'dist': 2, 'path': ['A', 'B', 'D']}"
      ]
     },
     "execution_count": 4,
     "metadata": {},
     "output_type": "execute_result"
    }
   ],
   "source": [
    "g = Graph(graph1)\n",
    "g.shortest_path('A', 'D')"
   ]
  },
  {
   "cell_type": "code",
   "execution_count": 5,
   "metadata": {},
   "outputs": [
    {
     "data": {
      "text/plain": [
       "{'dist': 4, 'path': ['D', 'E', 'S', 'A', 'B']}"
      ]
     },
     "execution_count": 5,
     "metadata": {},
     "output_type": "execute_result"
    }
   ],
   "source": [
    "g = Graph(graph2)\n",
    "g.shortest_path('D', 'B')"
   ]
  },
  {
   "cell_type": "code",
   "execution_count": 6,
   "metadata": {},
   "outputs": [
    {
     "data": {
      "text/plain": [
       "[6, 1, 2, 3, 5, 4]"
      ]
     },
     "execution_count": 6,
     "metadata": {},
     "output_type": "execute_result"
    }
   ],
   "source": [
    "# UNFINISHED\n",
    "g = Graph(graph3)\n",
    "g.topological_sort(6)"
   ]
  },
  {
   "cell_type": "code",
   "execution_count": null,
   "metadata": {},
   "outputs": [],
   "source": []
  }
 ],
 "metadata": {
  "kernelspec": {
   "display_name": "Python 3",
   "language": "python",
   "name": "python3"
  },
  "language_info": {
   "codemirror_mode": {
    "name": "ipython",
    "version": 3
   },
   "file_extension": ".py",
   "mimetype": "text/x-python",
   "name": "python",
   "nbconvert_exporter": "python",
   "pygments_lexer": "ipython3",
   "version": "3.7.9"
  }
 },
 "nbformat": 4,
 "nbformat_minor": 4
}
