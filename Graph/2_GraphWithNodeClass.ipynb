{
 "cells": [
  {
   "cell_type": "code",
   "execution_count": 1,
   "metadata": {},
   "outputs": [],
   "source": [
    "from collections import deque"
   ]
  },
  {
   "cell_type": "code",
   "execution_count": 32,
   "metadata": {},
   "outputs": [],
   "source": [
    "# Node class\n",
    "class Node():\n",
    "    def __init__(self, key, adj=None):\n",
    "        self.key = key\n",
    "        self.adj = None\n",
    "    \n",
    "    def add_adj(self, node):\n",
    "        if self.adj:\n",
    "            self.adj.append(node)\n",
    "        else: self.adj = [node]\n",
    "            \n",
    "class Graph():\n",
    "    def __init__(self, graph):\n",
    "        self.graph = {}\n",
    "        self.construct(graph)\n",
    "        \n",
    "    # Construct the graph\n",
    "    def construct(self, graph):\n",
    "        # Inistialize the node\n",
    "        for key in graph:\n",
    "            self.graph[key] = Node(key)\n",
    "        for key, adjs in graph.items():\n",
    "            for adj in adjs:\n",
    "                if adj: self.graph[key].add_adj(self.graph[adj])"
   ]
  },
  {
   "cell_type": "code",
   "execution_count": 33,
   "metadata": {},
   "outputs": [],
   "source": [
    "graph1 = {'A': ['B', 'C'],\n",
    "          'B': ['C', 'D'],\n",
    "          'C': ['D'],\n",
    "          'D': ['C'],\n",
    "          'E': ['F'],\n",
    "          'F': ['C']}\n",
    "\n",
    "graph2 = {'A': ['B'],\n",
    "          'B': [None],\n",
    "          'C': ['B'],\n",
    "          'D': ['E'],\n",
    "          'E': ['S'],\n",
    "          'S': ['A', 'C', 'D']}\n",
    "\n",
    "graph3 = {0: [1, 2],\n",
    "          1: [2, 5],\n",
    "          2: [3],\n",
    "          3: [None],\n",
    "          4: [None],\n",
    "          5: [3,4],\n",
    "          6: [1,5]}"
   ]
  },
  {
   "cell_type": "code",
   "execution_count": null,
   "metadata": {},
   "outputs": [],
   "source": []
  }
 ],
 "metadata": {
  "kernelspec": {
   "display_name": "Python 3",
   "language": "python",
   "name": "python3"
  },
  "language_info": {
   "codemirror_mode": {
    "name": "ipython",
    "version": 3
   },
   "file_extension": ".py",
   "mimetype": "text/x-python",
   "name": "python",
   "nbconvert_exporter": "python",
   "pygments_lexer": "ipython3",
   "version": "3.7.9"
  }
 },
 "nbformat": 4,
 "nbformat_minor": 4
}
