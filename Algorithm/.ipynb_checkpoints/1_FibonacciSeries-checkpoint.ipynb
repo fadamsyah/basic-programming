{
 "cells": [
  {
   "cell_type": "code",
   "execution_count": 1,
   "metadata": {},
   "outputs": [],
   "source": [
    "# Naive implementation\n",
    "# O(2^n)\n",
    "def fib_rec(n):\n",
    "    if n <= 1: return n\n",
    "    return fib_rec(n-1) + fib_rec(n-2)\n",
    "\n",
    "# Optimal implementation\n",
    "# O(n)\n",
    "def fib_opt(n):\n",
    "    arr = [1, 1]\n",
    "    if n <= 0:\n",
    "        print(\"Please insert n > 0\")\n",
    "        return\n",
    "    elif n <= 2: return arr[n - 1]\n",
    "    \n",
    "    # Save the visited value\n",
    "    for _ in range(2, n):\n",
    "        arr.append(arr[-1] + arr[-2])\n",
    "    \n",
    "    return arr[-1]"
   ]
  },
  {
   "cell_type": "code",
   "execution_count": 2,
   "metadata": {},
   "outputs": [
    {
     "name": "stdout",
     "output_type": "stream",
     "text": [
      "6765\n"
     ]
    }
   ],
   "source": [
    "n = 20\n",
    "assert fib_rec(n) == fib_opt(n)\n",
    "print(fib_opt(n))"
   ]
  },
  {
   "cell_type": "code",
   "execution_count": null,
   "metadata": {},
   "outputs": [],
   "source": []
  }
 ],
 "metadata": {
  "kernelspec": {
   "display_name": "Python 3",
   "language": "python",
   "name": "python3"
  },
  "language_info": {
   "codemirror_mode": {
    "name": "ipython",
    "version": 3
   },
   "file_extension": ".py",
   "mimetype": "text/x-python",
   "name": "python",
   "nbconvert_exporter": "python",
   "pygments_lexer": "ipython3",
   "version": "3.7.9"
  }
 },
 "nbformat": 4,
 "nbformat_minor": 4
}
