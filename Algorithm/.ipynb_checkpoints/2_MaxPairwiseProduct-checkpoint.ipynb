{
 "cells": [
  {
   "cell_type": "markdown",
   "metadata": {},
   "source": [
    "<a href=https://github.com/mablatnik/Algorithmic-Toolbox/blob/master/algorithmic_toolbox/week_1/maximum_pairwise_product/max_pairwise_product.py>Reference</a>"
   ]
  },
  {
   "cell_type": "code",
   "execution_count": 1,
   "metadata": {},
   "outputs": [],
   "source": [
    "# Naive implementation\n",
    "def max_pairwise_product(arr):\n",
    "    result = None\n",
    "    for i in range(len(arr)):\n",
    "        for j in range(i, len(arr)):\n",
    "            if result:\n",
    "                if arr[i] * arr[j] > result:\n",
    "                    result = arr[i] * arr[j]\n",
    "            else: result = arr[i] * arr[j]\n",
    "    return result\n",
    "\n",
    "# Faster implementation\n",
    "# Find the first and the second largest value in the array\n",
    "def max_pairwise_product_fast(arr):\n",
    "    min_idx_1 = 0\n",
    "    for i in range(len(arr)):\n",
    "        if arr[i] > arr[min_idx_1]:\n",
    "            min_idx_1 = i\n",
    "            \n",
    "    if min_idx_1 != 0: min_idx_2 = 0\n",
    "    else: min_idx_2 = -1\n",
    "    for i in range(len(arr)):\n",
    "        if (arr[i] > arr[min_idx_2]) and (i != min_idx_1):\n",
    "            min_idx_2 = i\n",
    "    \n",
    "    return arr[min_idx_1] * arr[min_idx_2]"
   ]
  },
  {
   "cell_type": "code",
   "execution_count": 2,
   "metadata": {},
   "outputs": [
    {
     "name": "stdout",
     "output_type": "stream",
     "text": [
      "100\n"
     ]
    }
   ],
   "source": [
    "arr = [2, 3, 1, 5, 9, 4, 4, 10, 10]\n",
    "assert max_pairwise_product(arr) == max_pairwise_product_fast(arr)\n",
    "print(max_pairwise_product_fast(arr))"
   ]
  },
  {
   "cell_type": "code",
   "execution_count": null,
   "metadata": {},
   "outputs": [],
   "source": []
  }
 ],
 "metadata": {
  "kernelspec": {
   "display_name": "Python 3",
   "language": "python",
   "name": "python3"
  },
  "language_info": {
   "codemirror_mode": {
    "name": "ipython",
    "version": 3
   },
   "file_extension": ".py",
   "mimetype": "text/x-python",
   "name": "python",
   "nbconvert_exporter": "python",
   "pygments_lexer": "ipython3",
   "version": "3.7.9"
  }
 },
 "nbformat": 4,
 "nbformat_minor": 4
}
