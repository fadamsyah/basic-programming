{
 "cells": [
  {
   "cell_type": "code",
   "execution_count": 1,
   "metadata": {},
   "outputs": [],
   "source": [
    "import random\n",
    "random.seed(42)\n",
    "arr = [random.randint(0,1000) for _ in range(1000)]"
   ]
  },
  {
   "cell_type": "markdown",
   "metadata": {},
   "source": [
    "# Sort Algorithm"
   ]
  },
  {
   "cell_type": "markdown",
   "metadata": {
    "collapsed": "true"
   },
   "source": [
    "## Selection sort"
   ]
  },
  {
   "cell_type": "code",
   "execution_count": 2,
   "metadata": {},
   "outputs": [],
   "source": [
    "def selection_sort(arr):\n",
    "    sorted_arr = arr.copy()\n",
    "    n = len(sorted_arr)\n",
    "    \n",
    "    for i in range(n):\n",
    "        for j in range(i+1, n):\n",
    "            if sorted_arr[i] > sorted_arr[j]:\n",
    "                sorted_arr[i], sorted_arr[j] = sorted_arr[j], sorted_arr[i]\n",
    "    \n",
    "    return sorted_arr"
   ]
  },
  {
   "cell_type": "markdown",
   "metadata": {
    "collapsed": "true"
   },
   "source": [
    "## Bubble sort"
   ]
  },
  {
   "cell_type": "code",
   "execution_count": 3,
   "metadata": {},
   "outputs": [],
   "source": [
    "def bubble_sort(arr):\n",
    "    sorted_arr = arr.copy()\n",
    "    n = len(sorted_arr)\n",
    "    \n",
    "    while True:\n",
    "        sort = True\n",
    "        for i in range(n-1):\n",
    "            if sorted_arr[i] > sorted_arr[i+1]:\n",
    "                sorted_arr[i], sorted_arr[i+1] = sorted_arr[i+1], sorted_arr[i]\n",
    "                sort = False\n",
    "        if sort: break\n",
    "            \n",
    "    return sorted_arr"
   ]
  },
  {
   "cell_type": "markdown",
   "metadata": {
    "collapsed": "true"
   },
   "source": [
    "## Merge sort"
   ]
  },
  {
   "cell_type": "code",
   "execution_count": 4,
   "metadata": {},
   "outputs": [],
   "source": [
    "def merge_sort(arr):    \n",
    "    def merge(p, q):\n",
    "        np, nq = len(p), len(q)\n",
    "\n",
    "        r = []\n",
    "        while (np > 0) and (nq > 0):\n",
    "            if q[0] < p[0]:\n",
    "                r.append(q.pop(0))\n",
    "                nq = nq - 1\n",
    "            else:\n",
    "                r.append(p.pop(0))\n",
    "                np = np - 1\n",
    "        if np != 0:\n",
    "            r.extend(p)\n",
    "        elif nq != 0:\n",
    "            r.extend(q)\n",
    "\n",
    "        return r\n",
    "    \n",
    "    def recur(array, n):\n",
    "        if n == 1:\n",
    "            return array\n",
    "        m = n // 2\n",
    "        arr1 = recur(array[:m], m)\n",
    "        arr2 = recur(array[m:n], n-m)\n",
    "        return merge(arr1, arr2)\n",
    "    \n",
    "    return recur(arr, len(arr))"
   ]
  },
  {
   "cell_type": "markdown",
   "metadata": {},
   "source": [
    "# Test Case"
   ]
  },
  {
   "cell_type": "code",
   "execution_count": 5,
   "metadata": {},
   "outputs": [],
   "source": [
    "# Assert the result\n",
    "assert selection_sort(arr) == sorted(arr)\n",
    "assert bubble_sort(arr) == sorted(arr)\n",
    "assert merge_sort(arr) == sorted(arr)"
   ]
  },
  {
   "cell_type": "code",
   "execution_count": 6,
   "metadata": {},
   "outputs": [
    {
     "name": "stdout",
     "output_type": "stream",
     "text": [
      "103 µs ± 742 ns per loop (mean ± std. dev. of 7 runs, 10000 loops each)\n",
      "72.2 ms ± 474 µs per loop (mean ± std. dev. of 7 runs, 10 loops each)\n",
      "141 ms ± 558 µs per loop (mean ± std. dev. of 7 runs, 10 loops each)\n",
      "3.64 ms ± 36.6 µs per loop (mean ± std. dev. of 7 runs, 100 loops each)\n"
     ]
    }
   ],
   "source": [
    "# Check execution time\n",
    "%timeit sorted(arr)\n",
    "%timeit selection_sort(arr)\n",
    "%timeit bubble_sort(arr)\n",
    "%timeit merge_sort(arr)"
   ]
  },
  {
   "cell_type": "code",
   "execution_count": null,
   "metadata": {},
   "outputs": [],
   "source": []
  }
 ],
 "metadata": {
  "kernelspec": {
   "display_name": "Python 3",
   "language": "python",
   "name": "python3"
  },
  "language_info": {
   "codemirror_mode": {
    "name": "ipython",
    "version": 3
   },
   "file_extension": ".py",
   "mimetype": "text/x-python",
   "name": "python",
   "nbconvert_exporter": "python",
   "pygments_lexer": "ipython3",
   "version": "3.7.9"
  }
 },
 "nbformat": 4,
 "nbformat_minor": 4
}
