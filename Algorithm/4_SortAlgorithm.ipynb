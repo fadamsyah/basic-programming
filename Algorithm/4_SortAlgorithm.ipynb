{
 "cells": [
  {
   "cell_type": "code",
   "execution_count": 1,
   "metadata": {},
   "outputs": [],
   "source": [
    "import random\n",
    "random.seed(42)\n",
    "arr = [random.randint(0,1000) for _ in range(1000)]"
   ]
  },
  {
   "cell_type": "markdown",
   "metadata": {},
   "source": [
    "# Sort Algorithm"
   ]
  },
  {
   "cell_type": "markdown",
   "metadata": {
    "collapsed": "true"
   },
   "source": [
    "## Selection sort"
   ]
  },
  {
   "cell_type": "code",
   "execution_count": 2,
   "metadata": {},
   "outputs": [],
   "source": [
    "def selection_sort(arr):\n",
    "    sorted_arr = arr.copy()\n",
    "    n = len(sorted_arr)\n",
    "    \n",
    "    for i in range(n):\n",
    "        for j in range(i+1, n):\n",
    "            if sorted_arr[i] > sorted_arr[j]:\n",
    "                sorted_arr[i], sorted_arr[j] = sorted_arr[j], sorted_arr[i]\n",
    "    \n",
    "    return sorted_arr"
   ]
  },
  {
   "cell_type": "markdown",
   "metadata": {
    "collapsed": "true"
   },
   "source": [
    "## Bubble sort"
   ]
  },
  {
   "cell_type": "code",
   "execution_count": 3,
   "metadata": {},
   "outputs": [],
   "source": [
    "def bubble_sort(arr):\n",
    "    sorted_arr = arr.copy()\n",
    "    n = len(sorted_arr)\n",
    "    \n",
    "    while True:\n",
    "        sort = True\n",
    "        for i in range(n-1):\n",
    "            if sorted_arr[i] > sorted_arr[i+1]:\n",
    "                sorted_arr[i], sorted_arr[i+1] = sorted_arr[i+1], sorted_arr[i]\n",
    "                sort = False\n",
    "        if sort: break\n",
    "            \n",
    "    return sorted_arr"
   ]
  },
  {
   "cell_type": "markdown",
   "metadata": {
    "collapsed": "true"
   },
   "source": [
    "## Merge sort"
   ]
  },
  {
   "cell_type": "code",
   "execution_count": 4,
   "metadata": {},
   "outputs": [],
   "source": [
    "def merge_sort(arr):    \n",
    "    def merge(p, q):\n",
    "        np, nq = len(p), len(q)\n",
    "\n",
    "        r = []\n",
    "        while (np > 0) and (nq > 0):\n",
    "            if q[0] < p[0]:\n",
    "                r.append(q.pop(0))\n",
    "                nq = nq - 1\n",
    "            else:\n",
    "                r.append(p.pop(0))\n",
    "                np = np - 1\n",
    "        if np != 0:\n",
    "            r.extend(p)\n",
    "        elif nq != 0:\n",
    "            r.extend(q)\n",
    "\n",
    "        return r\n",
    "    \n",
    "    def recur(array, n):\n",
    "        if n == 1:\n",
    "            return array\n",
    "        m = n // 2\n",
    "        arr1 = recur(array[:m], m)\n",
    "        arr2 = recur(array[m:n], n-m)\n",
    "        return merge(arr1, arr2)\n",
    "    \n",
    "    return recur(arr, len(arr))"
   ]
  },
  {
   "cell_type": "markdown",
   "metadata": {},
   "source": [
    "## Quick Sort"
   ]
  },
  {
   "cell_type": "code",
   "execution_count": 5,
   "metadata": {},
   "outputs": [],
   "source": [
    "def quick_sort(arr):\n",
    "    sorted_arr = arr.copy()\n",
    "    \n",
    "    def recur(low, high):\n",
    "        if abs(high - low) == 1:\n",
    "            if sorted_arr[high] < sorted_arr[low]:\n",
    "                sorted_arr[high],sorted_arr[low] = sorted_arr[low],sorted_arr[high]\n",
    "            return\n",
    "        elif (high - low) < 1:\n",
    "            return\n",
    "        pivot = sorted_arr[high]\n",
    "        \n",
    "        i = low\n",
    "        j = high - 1\n",
    "        \n",
    "        find_swap = False\n",
    "        while True:\n",
    "            if sorted_arr[i] >= pivot:\n",
    "                if sorted_arr[j] <= pivot:\n",
    "                    sorted_arr[i], sorted_arr[j] = sorted_arr[j], sorted_arr[i]\n",
    "                    i = i + 1\n",
    "                    find_swap = True\n",
    "                else: j = j - 1\n",
    "            else: i = i + 1\n",
    "            if i == j:\n",
    "                if not find_swap:\n",
    "                    if (pivot <= sorted_arr[high - 1]) and (pivot <= sorted_arr[low]):\n",
    "                        next_left = False\n",
    "                        sorted_arr[high], sorted_arr[low] = sorted_arr[low], sorted_arr[high]\n",
    "                    elif(pivot >= sorted_arr[low]) and (pivot >= sorted_arr[high - 1]):\n",
    "                        next_left = True\n",
    "                    else:\n",
    "                        find_swap = True\n",
    "                break\n",
    "                \n",
    "        if find_swap:\n",
    "            sorted_arr[high], sorted_arr[i] = sorted_arr[i], sorted_arr[high]\n",
    "            recur(low, i - 1)\n",
    "            recur(i + 1, high)\n",
    "        else:\n",
    "            if next_left: recur(low, high-1)\n",
    "            else: recur(low+1, high)\n",
    "                \n",
    "        return\n",
    "    \n",
    "    recur(0, len(sorted_arr) - 1)\n",
    "    return sorted_arr"
   ]
  },
  {
   "cell_type": "markdown",
   "metadata": {},
   "source": [
    "# Test Case"
   ]
  },
  {
   "cell_type": "code",
   "execution_count": 6,
   "metadata": {},
   "outputs": [],
   "source": [
    "# Assert the result\n",
    "assert selection_sort(arr) == sorted(arr)\n",
    "assert bubble_sort(arr) == sorted(arr)\n",
    "assert merge_sort(arr) == sorted(arr)\n",
    "assert quick_sort(arr) == sorted(arr)"
   ]
  },
  {
   "cell_type": "code",
   "execution_count": 7,
   "metadata": {},
   "outputs": [
    {
     "name": "stdout",
     "output_type": "stream",
     "text": [
      "1.53 ms ± 10.7 µs per loop (mean ± std. dev. of 7 runs, 100 loops each)\n",
      "79.8 ms ± 16.3 ms per loop (mean ± std. dev. of 7 runs, 10 loops each)\n",
      "202 ms ± 21.7 ms per loop (mean ± std. dev. of 7 runs, 1 loop each)\n",
      "5.85 ms ± 544 µs per loop (mean ± std. dev. of 7 runs, 100 loops each)\n",
      "3.55 ms ± 142 µs per loop (mean ± std. dev. of 7 runs, 100 loops each)\n"
     ]
    }
   ],
   "source": [
    "# Check execution time\n",
    "%timeit sorted([random.randint(0,1000) for _ in range(1000)])\n",
    "%timeit selection_sort([random.randint(0,1000) for _ in range(1000)])\n",
    "%timeit bubble_sort([random.randint(0,1000) for _ in range(1000)])\n",
    "%timeit merge_sort([random.randint(0,1000) for _ in range(1000)])\n",
    "%timeit quick_sort([random.randint(0,1000) for _ in range(1000)])"
   ]
  },
  {
   "cell_type": "code",
   "execution_count": null,
   "metadata": {},
   "outputs": [],
   "source": []
  }
 ],
 "metadata": {
  "kernelspec": {
   "display_name": "Python 3",
   "language": "python",
   "name": "python3"
  },
  "language_info": {
   "codemirror_mode": {
    "name": "ipython",
    "version": 3
   },
   "file_extension": ".py",
   "mimetype": "text/x-python",
   "name": "python",
   "nbconvert_exporter": "python",
   "pygments_lexer": "ipython3",
   "version": "3.7.9"
  }
 },
 "nbformat": 4,
 "nbformat_minor": 4
}
