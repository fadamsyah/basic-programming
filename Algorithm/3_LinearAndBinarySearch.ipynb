{
 "cells": [
  {
   "cell_type": "code",
   "execution_count": 1,
   "metadata": {},
   "outputs": [],
   "source": [
    "# Linear search\n",
    "def linear_search(arr, key):\n",
    "    for i in range(len(arr)):\n",
    "        if arr[i] == key: return i\n",
    "    print(f\"Key ({key}) is not found in array {arr}\")\n",
    "    return\n",
    "\n",
    "def binary_search(sorted_array, key):\n",
    "    sorted_array = sorted(arr)\n",
    "    \n",
    "    def recur(low, high):\n",
    "        mid = low + (high - low) // 2\n",
    "        if key == sorted_array[mid]: return mid\n",
    "        elif key > sorted_array[mid]:\n",
    "            if high == mid: return None\n",
    "            return recur(mid+1, high)\n",
    "        elif key < sorted_array[mid]:\n",
    "            if low == mid: return None\n",
    "            return recur(low, mid-1)\n",
    "    \n",
    "    idx = recur(0, len(sorted_array) - 1)\n",
    "    if idx is not None: return idx\n",
    "    \n",
    "    print(f\"Key ({key}) is not found in array {arr}\")\n",
    "    return"
   ]
  },
  {
   "cell_type": "code",
   "execution_count": 2,
   "metadata": {},
   "outputs": [
    {
     "name": "stdout",
     "output_type": "stream",
     "text": [
      "6\n",
      "6\n",
      "730 ns ± 18.4 ns per loop (mean ± std. dev. of 7 runs, 1000000 loops each)\n",
      "1.57 µs ± 20.8 ns per loop (mean ± std. dev. of 7 runs, 1000000 loops each)\n"
     ]
    }
   ],
   "source": [
    "arr = [3, 5, 8, 20, 20, 50, 60]\n",
    "key = 60\n",
    "print(linear_search(arr,key))\n",
    "print(binary_search(arr, key))\n",
    "\n",
    "%timeit linear_search(arr, key)\n",
    "%timeit binary_search(arr, key)"
   ]
  },
  {
   "cell_type": "code",
   "execution_count": 3,
   "metadata": {},
   "outputs": [
    {
     "name": "stdout",
     "output_type": "stream",
     "text": [
      "3.55 µs ± 85.4 ns per loop (mean ± std. dev. of 7 runs, 100000 loops each)\n",
      "1.68 µs ± 48.4 ns per loop (mean ± std. dev. of 7 runs, 1000000 loops each)\n"
     ]
    }
   ],
   "source": [
    "arr2 = list(range(5_000_000))\n",
    "%timeit linear_search(arr2, key)\n",
    "%timeit binary_search(arr2, key)"
   ]
  },
  {
   "cell_type": "code",
   "execution_count": null,
   "metadata": {},
   "outputs": [],
   "source": []
  }
 ],
 "metadata": {
  "kernelspec": {
   "display_name": "Python 3",
   "language": "python",
   "name": "python3"
  },
  "language_info": {
   "codemirror_mode": {
    "name": "ipython",
    "version": 3
   },
   "file_extension": ".py",
   "mimetype": "text/x-python",
   "name": "python",
   "nbconvert_exporter": "python",
   "pygments_lexer": "ipython3",
   "version": "3.7.9"
  }
 },
 "nbformat": 4,
 "nbformat_minor": 4
}
